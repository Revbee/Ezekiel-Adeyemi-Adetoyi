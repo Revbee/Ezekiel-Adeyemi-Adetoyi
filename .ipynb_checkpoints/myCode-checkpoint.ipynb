{
 "cells": [
  {
   "cell_type": "code",
   "execution_count": 1,
   "id": "7b795c88",
   "metadata": {},
   "outputs": [],
   "source": [
    "#importing needed packages"
   ]
  },
  {
   "cell_type": "code",
   "execution_count": 2,
   "id": "0414068f",
   "metadata": {},
   "outputs": [],
   "source": [
    "import pandas"
   ]
  },
  {
   "cell_type": "code",
   "execution_count": 3,
   "id": "73e5580e",
   "metadata": {},
   "outputs": [],
   "source": [
    "import numpy"
   ]
  },
  {
   "cell_type": "code",
   "execution_count": 5,
   "id": "7d80c668",
   "metadata": {},
   "outputs": [],
   "source": [
    "import matplotlib.pyplot as plt"
   ]
  },
  {
   "cell_type": "code",
   "execution_count": 6,
   "id": "44b8ed39",
   "metadata": {},
   "outputs": [],
   "source": [
    "import seaborn as seaborn"
   ]
  },
  {
   "cell_type": "code",
   "execution_count": null,
   "id": "2dea17ee",
   "metadata": {},
   "outputs": [],
   "source": []
  }
 ],
 "metadata": {
  "kernelspec": {
   "display_name": "Python 3",
   "language": "python",
   "name": "python3"
  },
  "language_info": {
   "codemirror_mode": {
    "name": "ipython",
    "version": 3
   },
   "file_extension": ".py",
   "mimetype": "text/x-python",
   "name": "python",
   "nbconvert_exporter": "python",
   "pygments_lexer": "ipython3",
   "version": "3.8.8"
  }
 },
 "nbformat": 4,
 "nbformat_minor": 5
}
